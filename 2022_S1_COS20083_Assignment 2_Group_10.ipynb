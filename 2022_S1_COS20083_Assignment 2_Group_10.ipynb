{
 "cells": [
  {
   "cell_type": "markdown",
   "metadata": {},
   "source": [
    "# COS20083 Advanced Data Analytics\n",
    "\n",
    "## Assignment 2: Case Study and Algorithm Implementation\n",
    "\n",
    "### Semester 1, 2022"
   ]
  },
  {
   "cell_type": "markdown",
   "metadata": {},
   "source": [
    "#### Group Number: <p style =\"color: red;\">XX</p>\n",
    "#### Group Members: <p style =\"color: red;\">XX, XX</p>"
   ]
  },
  {
   "cell_type": "markdown",
   "metadata": {},
   "source": [
    "### <p style =\"color: blue;\">1. Introduction</p>"
   ]
  },
  {
   "cell_type": "raw",
   "metadata": {},
   "source": [
    "(Short paragraph)\n",
    "# What is the purpose of the assignment?\n",
    "# What is the problem to be addressed by this case study?"
   ]
  },
  {
   "cell_type": "markdown",
   "metadata": {},
   "source": [
    "### <p style =\"color: blue;\">2. Data Collection</p>"
   ]
  },
  {
   "cell_type": "raw",
   "metadata": {},
   "source": [
    "(Short paragraph)\n",
    "# Describe the purpose and the process of data collection and understanding here "
   ]
  },
  {
   "cell_type": "code",
   "execution_count": 2,
   "metadata": {},
   "outputs": [],
   "source": [
    "# Show your code here (Step by Step) \n",
    "# Comment each step in your code\n",
    "# Load Data\n",
    "import numpy as np\n",
    "import pandas as pd\n",
    "import seaborn as sns\n",
    "import matplotlib as plt\n",
    "import matplotlib.pyplot as plt\n",
    "\n",
    "from IPython.display import display\n",
    "\n"
   ]
  },
  {
   "cell_type": "code",
   "execution_count": null,
   "metadata": {},
   "outputs": [],
   "source": [
    "train_df = pd.read_csv('../data/foursquare-location-matching/train.csv')\n",
    "test_df = pd.read_csv('../data/foursquare-location-matching/test.csv')\n",
    "sub_df = pd.read_csv('../data/foursquare-location-matching/sample_submission.csv')"
   ]
  },
  {
   "cell_type": "markdown",
   "metadata": {},
   "source": [
    "### <p style =\"color: blue;\">3. Exploratory Data Analysis</p>"
   ]
  },
  {
   "cell_type": "raw",
   "metadata": {},
   "source": [
    "(Short paragraph)\n",
    "# Describe EDA methods here"
   ]
  },
  {
   "cell_type": "code",
   "execution_count": 7,
   "metadata": {},
   "outputs": [],
   "source": [
    "# Show your code here (Step by Step) \n",
    "# Comment each step in your code"
   ]
  },
  {
   "cell_type": "raw",
   "metadata": {},
   "source": [
    "(Short paragraph)\n",
    "# Explain:\n",
    "# (1) Description of dataframe\n",
    "# (2) Graphical plots of data\n",
    "# (3) Descriptive statistics of data"
   ]
  },
  {
   "cell_type": "markdown",
   "metadata": {},
   "source": [
    "### <p style =\"color: blue;\">4. Model Building</p>"
   ]
  },
  {
   "cell_type": "raw",
   "metadata": {},
   "source": [
    "(Short paragraph)\n",
    "# Describe the process of model building"
   ]
  },
  {
   "cell_type": "code",
   "execution_count": 8,
   "metadata": {},
   "outputs": [],
   "source": [
    "# Show your code here (Step by Step) \n",
    "# Comment each step in your code"
   ]
  },
  {
   "cell_type": "raw",
   "metadata": {},
   "source": [
    "(Short paragraph)\n",
    "# Explain: \n",
    "# (1) how the data is partitioned\n",
    "# (2) how the model is chosen\n",
    "# (3) how the model is trained\n",
    "# (4) the attributes that have the greatest effect on the matching results"
   ]
  },
  {
   "cell_type": "markdown",
   "metadata": {},
   "source": [
    "### <p style =\"color: blue;\">5. Model Evaluation</p>"
   ]
  },
  {
   "cell_type": "raw",
   "metadata": {},
   "source": [
    "(Short paragraph)\n",
    "# Describe the process of model evaluation"
   ]
  },
  {
   "cell_type": "code",
   "execution_count": 4,
   "metadata": {},
   "outputs": [],
   "source": [
    "# Show your code here (Step by Step) \n",
    "# Comment each step in your code"
   ]
  },
  {
   "cell_type": "raw",
   "metadata": {},
   "source": [
    "(Short paragraph)\n",
    "# Explain: \n",
    "# (1) the performance of the model created\n",
    "# (2) how the model can be used to predict or match the POIs accurately"
   ]
  },
  {
   "cell_type": "markdown",
   "metadata": {},
   "source": [
    "### <p style =\"color: blue;\">6. Model Validation (Challenge)</p>"
   ]
  },
  {
   "cell_type": "raw",
   "metadata": {},
   "source": [
    "(Short paragraph)\n",
    "# Describe the process of model validation"
   ]
  },
  {
   "cell_type": "code",
   "execution_count": 5,
   "metadata": {},
   "outputs": [],
   "source": [
    "# Show your code here (Step by Step) \n",
    "# Comment each step in your code"
   ]
  },
  {
   "cell_type": "raw",
   "metadata": {},
   "source": [
    "(Short paragraph)\n",
    "# Explain: \n",
    "# (1) the cross-validation approach\n",
    "# (2) the matching or predictive performance of the model created,"
   ]
  },
  {
   "cell_type": "markdown",
   "metadata": {},
   "source": [
    "### <p style =\"color: blue;\">7. Discussion</p>"
   ]
  },
  {
   "cell_type": "raw",
   "metadata": {
    "tags": []
   },
   "source": [
    "# Identify:\n",
    "# (1) The factors that have significant influences on location matching \n",
    "# (2) Any interesting observation from this challenge"
   ]
  },
  {
   "cell_type": "raw",
   "metadata": {},
   "source": [
    "# Explain:\n",
    "# (1) The limitations and weaknesses of the modelling approach\n",
    "# (2) The steps taken to improve the matching accuracy in your modelling approach"
   ]
  },
  {
   "cell_type": "raw",
   "metadata": {},
   "source": [
    "# Elaborate:\n",
    "# (1) The experience in participating in a Kaggle challenge\n",
    "# (2) The discussion and submission score on Kaggle (include the screenshot or link to your submission here)\n",
    "# (3) The improvements that need to be done in order to win the challenge"
   ]
  },
  {
   "cell_type": "markdown",
   "metadata": {},
   "source": [
    "# Team contribution"
   ]
  },
  {
   "cell_type": "raw",
   "metadata": {},
   "source": [
    "# Please describe the contribution of each team member e.g. participation percentage and tasks \n",
    "(1) Team member A\n",
    "(2) Team member B\n",
    "...."
   ]
  },
  {
   "cell_type": "code",
   "execution_count": null,
   "metadata": {},
   "outputs": [],
   "source": []
  }
 ],
 "metadata": {
  "kernelspec": {
   "display_name": "Python 3 (ipykernel)",
   "language": "python",
   "name": "python3"
  },
  "language_info": {
   "codemirror_mode": {
    "name": "ipython",
    "version": 3
   },
   "file_extension": ".py",
   "mimetype": "text/x-python",
   "name": "python",
   "nbconvert_exporter": "python",
   "pygments_lexer": "ipython3",
   "version": "3.9.7"
  }
 },
 "nbformat": 4,
 "nbformat_minor": 4
}
